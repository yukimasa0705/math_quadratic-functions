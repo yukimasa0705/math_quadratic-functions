{
  "nbformat": 4,
  "nbformat_minor": 0,
  "metadata": {
    "colab": {
      "provenance": [],
      "authorship_tag": "ABX9TyO7Gvt+XfQHE/o2O4jdPbo7",
      "include_colab_link": true
    },
    "kernelspec": {
      "name": "python3",
      "display_name": "Python 3"
    },
    "language_info": {
      "name": "python"
    }
  },
  "cells": [
    {
      "cell_type": "markdown",
      "metadata": {
        "id": "view-in-github",
        "colab_type": "text"
      },
      "source": [
        "<a href=\"https://colab.research.google.com/github/yukimasa0705/math_quadratic-functions/blob/main/math_quadratic_intro.ipynb\" target=\"_parent\"><img src=\"https://colab.research.google.com/assets/colab-badge.svg\" alt=\"Open In Colab\"/></a>"
      ]
    },
    {
      "cell_type": "markdown",
      "source": [
        "# 二次関数の基礎\n",
        "\n",
        "## 1. 二次関数とは？\n",
        "\n",
        "二次関数は、一般的に次のような形で表される関数です。\n",
        "\n",
        "$$\n",
        "f(x) = ax^2 + bx + c\n",
        "$$\n",
        "\n",
        "ここで、$a$、$b$、$c$ は定数であり、$a \\neq 0$ です。この形を **標準形** と呼びます。\n",
        "\n",
        "- $a$ は関数の放物線の「幅」や「向き」を決定します。\n",
        "- $b$ は放物線の「傾き」を決定します。\n",
        "- $c$ は放物線の「$y$軸との交点」を決定します。\n",
        "\n",
        "二次関数のグラフは **放物線** となり、上向きまたは下向きに開きます。\n",
        "\n",
        "## 2. 二次関数のグラフの特徴\n",
        "\n",
        "- **放物線の向き**: $a > 0$ の場合、放物線は上向きに開きます。$a < 0$ の場合、放物線は下向きに開きます。\n",
        "- **頂点**: 放物線の最小値または最大値を取る点を **頂点** と言います。頂点の座標は、次の式で求めることができます。\n",
        "\n",
        "$$\n",
        "x = \\frac{-b}{2a}\n",
        "$$\n",
        "\n",
        "- **軸**: 放物線は $x = \\frac{-b}{2a}$ を軸に対して左右対称になります。この直線を **軸** と呼びます。\n",
        "\n",
        "## 3. グラフの描画方法\n",
        "\n",
        "二次関数のグラフを描くためには、まず以下の手順を踏みます。\n",
        "\n",
        "1. **頂点**を求める。\n",
        "2. **$y$軸との交点**を求めるために、$x = 0$ を代入して $f(0)$ を計算。\n",
        "3. **対称性**を活かして、左右の点を求める。\n",
        "\n",
        "このような方法で、二次関数のグラフを描くことができます。\n",
        "\n",
        "## 4. 実生活での二次関数の例\n",
        "\n",
        "二次関数は、放物運動や最適化問題など、実生活にも多くの場面で登場します。例えば、物体を上に投げた時の軌道は二次関数で表されることが多いです。\n",
        "\n",
        "---\n",
        "\n",
        "このテキストをもとに、二次関数に関する基礎的な理解を深めていきましょう！\n"
      ],
      "metadata": {
        "id": "biJ-AIl-YD1R"
      }
    },
    {
      "cell_type": "markdown",
      "source": [
        "# 二次関数のグラフの理解\n",
        "\n",
        "二次関数 $f(x) = ax^2 + bx + c$ のグラフを理解するためには、関数の「形」や「特性」をしっかり押さえることが大切です。ここでは、平方完成や放物線の向き、頂点の位置など、重要な概念を解説します。\n",
        "\n",
        "## 1. 平方完成とは？\n",
        "\n",
        "二次関数を平方完成して、**頂点形**（$f(x) = a(x - h)^2 + k$）に書き換える方法です。これにより、放物線の頂点の位置を簡単に把握できます。\n",
        "\n",
        "### 平方完成の手順\n",
        "\n",
        "二次関数 $f(x) = ax^2 + bx + c$ を平方完成するには、次の手順を踏みます。\n",
        "\n",
        "1. $a$で括り出しをする（$a$が1でない場合）\n",
        "   \n",
        "   $$ f(x) = a(x^2 + \\frac{b}{a}x) + c $$\n",
        "\n",
        "2. $x^2 + \\frac{b}{a}x$ の部分を完全な平方にするために、$(\\frac{b}{2a})^2$ を加減して式を変形します。\n",
        "\n",
        "   $$ f(x) = a\\left( \\left( x + \\frac{b}{2a} \\right)^2 - \\left( \\frac{b}{2a} \\right)^2 \\right) + c $$\n",
        "\n",
        "3. 最後に、定数項を整理します。\n",
        "\n",
        "   $$ f(x) = a\\left( x + \\frac{b}{2a} \\right)^2 - \\frac{b^2}{4a} + c $$\n",
        "\n",
        "これにより、関数の頂点の座標は $(-\\frac{b}{2a}, f(-\\frac{b}{2a}))$ として簡単に求めることができます。\n",
        "\n",
        "## 2. 放物線の向き\n",
        "\n",
        "二次関数のグラフは、放物線の形をしています。この放物線がどちらに向かうか（上向き・下向き）は、$a$の符号によって決まります。\n",
        "\n",
        "- **上向き**: $a > 0$ の場合、放物線は上向きに開きます。つまり、最小値を持つ頂点になります。\n",
        "- **下向き**: $a < 0$ の場合、放物線は下向きに開きます。つまり、最大値を持つ頂点になります。\n",
        "\n",
        "これにより、二次関数のグラフが最小値か最大値を持つことがわかります。\n",
        "\n",
        "## 3. 頂点の位置と意味\n",
        "\n",
        "平方完成を使うことで、二次関数のグラフの頂点がすぐに分かります。頂点の$x$座標は以下の式で求められます。\n",
        "\n",
        "$$\n",
        "x_{\\text{頂点}} = \\frac{-b}{2a}\n",
        "$$\n",
        "\n",
        "この頂点の位置は、関数が上向きか下向きかによって重要な意味を持ちます。\n",
        "\n",
        "- **上向きの場合**: 頂点は最小値を持ちます。\n",
        "- **下向きの場合**: 頂点は最大値を持ちます。\n",
        "\n",
        "また、頂点の$y$座標は、$x_{\\text{頂点}}$を元の関数に代入して求めることができます。\n",
        "\n",
        "## 4. 実生活での応用例\n",
        "\n",
        "- **放物運動**: 物体が放物線を描いて落下する運動は、二次関数を用いてモデル化できます。例えば、投げたボールの軌道や、水平方向への投射などが典型的な例です。\n",
        "- **最適化問題**: 企業や工場での利益最大化、コスト最小化の問題などでも二次関数を用いることができます。\n",
        "\n",
        "## まとめ\n",
        "\n",
        "二次関数のグラフの向きや頂点の位置を理解することは、実生活にも役立つ基本的なスキルです。平方完成を利用して、関数の特性を見抜き、放物線の向きを理解することができるようになります。この知識を使って、さらに複雑な問題を解く力をつけていきましょう！\n"
      ],
      "metadata": {
        "id": "nd3G7ed_ZVuf"
      }
    },
    {
      "cell_type": "markdown",
      "source": [
        "# 二次関数のグラフ描画と平方完成の反映\n",
        "\n",
        "二次関数をグラフで表現する際、平方完成を行うことで関数の特性（頂点、開き方など）をより直感的に把握できます。ここでは、Pythonコードで省略できる手間を解説し、平方完成がどのようにグラフに反映されるかを説明します。\n",
        "\n",
        "## 1. 二次関数のグラフを描く方法\n",
        "\n",
        "Pythonで二次関数のグラフを描く際に、通常は以下の式を使います。\n",
        "\n",
        "$$\n",
        "f(x) = ax^2 + bx + c\n",
        "$$\n",
        "\n",
        "この式に基づいてグラフを描く場合、頂点の位置や放物線の向きを理解するために「平方完成」が有効です。しかし、実際にPythonでグラフを描く場合、平方完成を手動で行う必要はなく、関数そのものをプロットするだけで良い場合が多いです。\n",
        "\n",
        "### Pythonコードで二次関数を描く\n"
      ],
      "metadata": {
        "id": "uqp8jZQ_Z6zW"
      }
    },
    {
      "cell_type": "code",
      "source": [
        "import numpy as np\n",
        "import matplotlib.pyplot as plt\n",
        "\n",
        "# 二次関数の定義 (f(x) = ax^2 + bx + c)\n",
        "def quadratic_function(x, a=1, b=0, c=0):\n",
        "    return a * x**2 + b * x + c\n",
        "\n",
        "# xの範囲を設定 (-10 から 10 まで)\n",
        "x = np.linspace(-10, 10, 400)\n",
        "\n",
        "# yの値を計算\n",
        "y = quadratic_function(x, a=1, b=-2, c=1)\n",
        "\n",
        "# グラフの描画\n",
        "plt.plot(x, y, label='$f(x) = x^2 - 2x + 1$', color='blue')\n",
        "plt.title('二次関数のグラフ: $f(x) = x^2 - 2x + 1$')\n",
        "plt.xlabel('x')\n",
        "plt.ylabel('f(x)')\n",
        "plt.axhline(0, color='black',linewidth=0.5)  # x軸\n",
        "plt.axvline(0, color='black',linewidth=0.5)  # y軸\n",
        "plt.grid(True)\n",
        "plt.legend()\n",
        "plt.show()"
      ],
      "metadata": {
        "colab": {
          "base_uri": "https://localhost:8080/",
          "height": 790
        },
        "id": "HwcNZsnrZ9XG",
        "outputId": "9f26e58d-927b-4807-a6b3-b363e8e74e2d"
      },
      "execution_count": 2,
      "outputs": [
        {
          "output_type": "stream",
          "name": "stderr",
          "text": [
            "WARNING:matplotlib.mathtext:Font 'default' does not have a glyph for '\\u4e8c' [U+4e8c], substituting with a dummy symbol.\n",
            "WARNING:matplotlib.mathtext:Font 'default' does not have a glyph for '\\u6b21' [U+6b21], substituting with a dummy symbol.\n",
            "WARNING:matplotlib.mathtext:Font 'default' does not have a glyph for '\\u95a2' [U+95a2], substituting with a dummy symbol.\n",
            "WARNING:matplotlib.mathtext:Font 'default' does not have a glyph for '\\u6570' [U+6570], substituting with a dummy symbol.\n",
            "WARNING:matplotlib.mathtext:Font 'default' does not have a glyph for '\\u306e' [U+306e], substituting with a dummy symbol.\n",
            "WARNING:matplotlib.mathtext:Font 'default' does not have a glyph for '\\u30b0' [U+30b0], substituting with a dummy symbol.\n",
            "WARNING:matplotlib.mathtext:Font 'default' does not have a glyph for '\\u30e9' [U+30e9], substituting with a dummy symbol.\n",
            "WARNING:matplotlib.mathtext:Font 'default' does not have a glyph for '\\u30d5' [U+30d5], substituting with a dummy symbol.\n",
            "WARNING:matplotlib.mathtext:Font 'default' does not have a glyph for '\\u4e8c' [U+4e8c], substituting with a dummy symbol.\n",
            "WARNING:matplotlib.mathtext:Font 'default' does not have a glyph for '\\u6b21' [U+6b21], substituting with a dummy symbol.\n",
            "WARNING:matplotlib.mathtext:Font 'default' does not have a glyph for '\\u95a2' [U+95a2], substituting with a dummy symbol.\n",
            "WARNING:matplotlib.mathtext:Font 'default' does not have a glyph for '\\u6570' [U+6570], substituting with a dummy symbol.\n",
            "WARNING:matplotlib.mathtext:Font 'default' does not have a glyph for '\\u306e' [U+306e], substituting with a dummy symbol.\n",
            "WARNING:matplotlib.mathtext:Font 'default' does not have a glyph for '\\u30b0' [U+30b0], substituting with a dummy symbol.\n",
            "WARNING:matplotlib.mathtext:Font 'default' does not have a glyph for '\\u30e9' [U+30e9], substituting with a dummy symbol.\n",
            "WARNING:matplotlib.mathtext:Font 'default' does not have a glyph for '\\u30d5' [U+30d5], substituting with a dummy symbol.\n"
          ]
        },
        {
          "output_type": "display_data",
          "data": {
            "text/plain": [
              "<Figure size 640x480 with 1 Axes>"
            ],
            "image/png": "[encoded data removed]"
          },
          "metadata": {}
        }
      ]
    },
    {
      "cell_type": "markdown",
      "source": [
        "# 二次関数のグラフ描画と平方完成の反映\n",
        "\n",
        "このコードでは、$f(x) = x^2 - 2x + 1$ という二次関数のグラフを描いています。特に平方完成を行わずとも、$a$、$b$、$c$の値を指定するだけで、その関数のグラフを得ることができます。\n",
        "\n",
        "## 2. 平方完成を省略する理由\n",
        "\n",
        "### 1) グラフ描画における関数そのものの利用\n",
        "Pythonでは、matplotlibを使って$x$と$y$の値を直接計算し、グラフを描くことができます。平方完成を手動で行う必要はなく、式のままプロットできます。例えば、$f(x) = x^2 - 2x + 1$ の場合、そのまま関数を使ってグラフを描けば、頂点が自動的に反映されます。\n",
        "\n",
        "### 2) 関数の特性をコードで反映\n",
        "平方完成を使うことで、関数がどのように「開く」か（上向きまたは下向き）や、頂点がどこに位置するかを直感的に理解できますが、これらの特性はmatplotlibで自動的にグラフとして表現されます。したがって、コードを使えば、数式の計算を直接行わなくても、グラフとして確認できます。\n",
        "\n",
        "## 3. 平方完成がグラフにどう反映されるか\n",
        "\n",
        "平方完成を行うことで、関数が以下のように変換されます：\n",
        "\n",
        "$$\n",
        "f(x) = a(x - h)^2 + k\n",
        "$$\n",
        "\n",
        "ここで、$h$は頂点の$x$座標、$k$は頂点の$y$座標です。平方完成を行うことで、関数がどのように放物線を描くか、頂点の位置がどこにあるかが明確にわかります。\n",
        "\n",
        "例えば、$f(x) = x^2 - 2x + 1$を平方完成すると、次のようになります：\n",
        "\n",
        "$$\n",
        "f(x) = (x - 1)^2\n",
        "$$\n",
        "\n",
        "これにより、関数の頂点が$(1, 0)$にあることがわかります。このように平方完成を行った関数をPythonで描画すると、グラフの頂点が$(1, 0)$に配置され、放物線が上向きに開いていることが確認できます。\n",
        "\n",
        "### グラフに反映された平方完成\n",
        "先ほどのコードでプロットしたグラフでは、$f(x) = x^2 - 2x + 1$という式がそのまま反映され、頂点が$(1, 0)$にあり、上向きに開いた放物線が描かれます。このように、平方完成を行わなくても、関数のグラフを描画することができ、関数の特性を理解することができます。\n",
        "\n",
        "---\n",
        "\n",
        "## まとめ\n",
        "\n",
        "- Pythonでは、`matplotlib`を使って直接二次関数のグラフを描画でき、平方完成を手動で行う手間を省くことができます。\n",
        "- グラフを描くことで、関数の頂点の位置や放物線の開き方が直感的に理解できるようになります。\n",
        "- 平方完成を使えば、頂点の位置や開き方を簡単に把握でき、より深く関数の特性を理解することができます。\n",
        "\n",
        "このように、Pythonでのグラフ描画は二次関数の特性を視覚的に把握するための強力なツールとなります。\n"
      ],
      "metadata": {
        "id": "GgQP9igCaitK"
      }
    }
  ]
}